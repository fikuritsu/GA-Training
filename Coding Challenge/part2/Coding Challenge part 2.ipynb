{
 "cells": [
  {
   "cell_type": "markdown",
   "id": "fdf1e5a1",
   "metadata": {},
   "source": [
    "### Student 1 code sample:"
   ]
  },
  {
   "cell_type": "code",
   "execution_count": null,
   "id": "bc6c2bd5",
   "metadata": {},
   "outputs": [],
   "source": [
    "#!/usr/bin/env python\n",
    "\n",
    "import pandas as pd\n",
    "import numpy as np\n",
    "from sklearn import LinearRegression\n",
    "from sklearn.cross_validation import cross_val_score\n",
    "\n",
    "# Load data\n",
    "d = pd.read_csv('../data/train.csv')\n",
    "\n",
    "\n",
    "# Setup data for prediction\n",
    "x1 = data.SalaryNormalized\n",
    "x2 = pd.get_dummies(data.ContractType)\n",
    "\n",
    "# Setup model\n",
    "model = LinearRegression()\n",
    "\n",
    "# Evaluate model\n",
    "from sklearn.cross_validation import cross_val_score\n",
    "from sklearn.cross_validation import train_test_split\n",
    "scores = cross_val_score(model, x2, x1, cv=1, scoring='mean_absolute_error')\n",
    "print(scores.mean())"
   ]
  },
  {
   "cell_type": "markdown",
   "id": "7d5b591f",
   "metadata": {},
   "source": [
    "#### Errors :"
   ]
  },
  {
   "cell_type": "code",
   "execution_count": null,
   "id": "b1d1cbb0",
   "metadata": {},
   "outputs": [],
   "source": [
    "from sklearn import LinearRegression\n",
    "#correction\n",
    "from sklearn.linear_model import LinearRegression"
   ]
  },
  {
   "cell_type": "markdown",
   "id": "df31b908",
   "metadata": {},
   "source": [
    "the module is not imported properly."
   ]
  },
  {
   "cell_type": "code",
   "execution_count": null,
   "id": "4015db41",
   "metadata": {},
   "outputs": [],
   "source": [
    "# Load data\n",
    "d = pd.read_csv('../data/train.csv')\n",
    "#correction\n",
    "data = pd.read_csv('../data/train.csv')"
   ]
  },
  {
   "cell_type": "markdown",
   "id": "9c114edd",
   "metadata": {},
   "source": [
    "the dataframe should be assigned to 'data' variable, so it can be used in the next lines."
   ]
  },
  {
   "cell_type": "code",
   "execution_count": null,
   "id": "2ce503a1",
   "metadata": {},
   "outputs": [],
   "source": [
    "# Evaluate model\n",
    "from sklearn.cross_validation import cross_val_score"
   ]
  },
  {
   "cell_type": "markdown",
   "id": "3d9f531c",
   "metadata": {},
   "source": [
    "It is already imported at earlier lines. It does not need to be imported again."
   ]
  },
  {
   "cell_type": "code",
   "execution_count": null,
   "id": "845ce26d",
   "metadata": {},
   "outputs": [],
   "source": [
    "scores = cross_val_score(model, x2, x1, cv=1, scoring='mean_absolute_error')\n",
    "#correction\n",
    "scores = abs(cross_val_score(model, x2, x1, cv=3, scoring='neg_mean_absolute_error'))"
   ]
  },
  {
   "cell_type": "markdown",
   "id": "80b2f1f8",
   "metadata": {},
   "source": [
    "cross-validation (cv) value must be more than 1. And the scoring can't do mean_absolute_error. We need to change to neg_mean_absolute_error. then, we will put the absolute function."
   ]
  },
  {
   "cell_type": "markdown",
   "id": "8be7146c",
   "metadata": {},
   "source": [
    "### Working code for student 1:"
   ]
  },
  {
   "cell_type": "code",
   "execution_count": 25,
   "id": "d1bdecf4",
   "metadata": {},
   "outputs": [
    {
     "name": "stdout",
     "output_type": "stream",
     "text": [
      "11914.734881928345\n"
     ]
    }
   ],
   "source": [
    "import pandas as pd\n",
    "import numpy as np\n",
    "from sklearn.linear_model import LinearRegression\n",
    "from sklearn.model_selection import cross_val_score\n",
    "\n",
    "# Load data\n",
    "data = pd.read_csv('../data/train.csv')\n",
    "\n",
    "\n",
    "# Setup data for prediction\n",
    "x1 = data.SalaryNormalized\n",
    "x2 = pd.get_dummies(data.ContractType)\n",
    "\n",
    "# Setup model\n",
    "model = LinearRegression()\n",
    "\n",
    "# Evaluate model\n",
    "from sklearn.model_selection import train_test_split\n",
    "from sklearn.metrics import mean_absolute_error\n",
    "scores = abs(cross_val_score(model, x2, x1, cv=3, scoring=\"neg_mean_absolute_error\"))\n",
    "print(scores.mean())"
   ]
  },
  {
   "cell_type": "markdown",
   "id": "b2105c4a",
   "metadata": {},
   "source": [
    "### Student 2 code sample:"
   ]
  },
  {
   "cell_type": "code",
   "execution_count": 5,
   "id": "9e2f87b7",
   "metadata": {},
   "outputs": [],
   "source": [
    "#!/usr/bin/env python\n",
    "import pandas as pd\n",
    "import numpy as np\n",
    "\n",
    "from sklearn.linear_model import LinearRegression\n",
    "from sklearn.cross_validation import cross_val_score\n",
    "\n",
    "# Load data\n",
    "data = pd.read_csv('../data/train.csv')\n",
    "\n",
    "# Setup data for prediction\n",
    "y = data.SalaryNormalized\n",
    "X = pd.get_dummies(data.ContractType)\n",
    "\n",
    "# Setup model\n",
    "model = LinearRegression()\n",
    "\n",
    "# Evaluate model\n",
    "scores = cross_val_score(model, X, y, cv=5, scoring='mean_absolute_error')\n",
    "print(scores.mean())"
   ]
  },
  {
   "cell_type": "markdown",
   "id": "87b8de82",
   "metadata": {},
   "source": [
    "#### Errors:"
   ]
  },
  {
   "cell_type": "code",
   "execution_count": null,
   "id": "06245d82",
   "metadata": {},
   "outputs": [],
   "source": [
    "scores = cross_val_score(model, X, y, cv=5, scoring='mean_absolute_error')\n",
    "#correction\n",
    "scores = cross_val_score(model, X, y, scoring='mean_absolute_error')"
   ]
  },
  {
   "cell_type": "markdown",
   "id": "1ff4d37a",
   "metadata": {},
   "source": [
    "for better style, put None, to use the default 5-fold cross validation. we don't need to declare cv=5."
   ]
  },
  {
   "cell_type": "code",
   "execution_count": null,
   "id": "2c054b62",
   "metadata": {},
   "outputs": [],
   "source": [
    "# Evaluate model\n",
    "scores = cross_val_score(model, X, y, cv=5, scoring='mean_absolute_error')\n",
    "#correction\n",
    "scores = abs(cross_val_score(model, X, y, cv=5, scoring='neg_mean_absolute_error'))"
   ]
  },
  {
   "cell_type": "markdown",
   "id": "ac52d596",
   "metadata": {},
   "source": [
    "cross_val_score cannot do mean absolute error. Hence, we did neg_mean_absolute_error first. And we put into absolute function."
   ]
  },
  {
   "cell_type": "markdown",
   "id": "e9e4f50f",
   "metadata": {},
   "source": [
    "### Working code for student 2"
   ]
  },
  {
   "cell_type": "code",
   "execution_count": 27,
   "id": "5e1ed4b3",
   "metadata": {},
   "outputs": [
    {
     "name": "stdout",
     "output_type": "stream",
     "text": [
      "11822.140231295069\n"
     ]
    }
   ],
   "source": [
    "import pandas as pd\n",
    "import numpy as np\n",
    "\n",
    "from sklearn.linear_model import LinearRegression\n",
    "from sklearn.model_selection import cross_val_score\n",
    "\n",
    "# Load data\n",
    "data = pd.read_csv('../data/train.csv')\n",
    "\n",
    "# Setup data for prediction\n",
    "y = data.SalaryNormalized\n",
    "X = pd.get_dummies(data.ContractType)\n",
    "\n",
    "# Setup model\n",
    "model = LinearRegression()\n",
    "\n",
    "# Evaluate model\n",
    "scores = abs(cross_val_score(model, X, y, scoring='neg_mean_absolute_error'))\n",
    "print(scores.mean())"
   ]
  }
 ],
 "metadata": {
  "kernelspec": {
   "display_name": "Python 3",
   "language": "python",
   "name": "python3"
  },
  "language_info": {
   "codemirror_mode": {
    "name": "ipython",
    "version": 3
   },
   "file_extension": ".py",
   "mimetype": "text/x-python",
   "name": "python",
   "nbconvert_exporter": "python",
   "pygments_lexer": "ipython3",
   "version": "3.8.8"
  }
 },
 "nbformat": 4,
 "nbformat_minor": 5
}
