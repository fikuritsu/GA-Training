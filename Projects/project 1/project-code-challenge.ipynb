{
 "cells": [
  {
   "cell_type": "markdown",
   "metadata": {},
   "source": [
    "<img src=\"http://imgur.com/1ZcRyrc.png\" style=\"float: left; margin: 20px; height: 55px\">\n",
    "\n",
    "# Project 1: Python Coding Exercises\n",
    "\n",
    "_Authors: Joseph Nelson (DC) _\n",
    "\n",
    "---"
   ]
  },
  {
   "cell_type": "markdown",
   "metadata": {},
   "source": [
    "The following code challenges are drawn from common exercises used in technical interviews.\n",
    "\n",
    "Please note that there may be several ways to approach each challenge. If you get stuck, try mapping out your approach in pseudocode first. Finally, while solutions to problems like these may be found online, remember that if you copy/paste code that you can't explain, you'll be missing out on the point of the project. The only way to truly learn a new skill is through practice, trial, and error - we can only help you improve by understanding where you are having trouble."
   ]
  },
  {
   "cell_type": "markdown",
   "metadata": {},
   "source": [
    "### Challenge 1: Largest Palindrome\n",
    "A palindromic number reads the same both ways. For example, 1234321 is a palindrome. The largest palindrome made from the product of two two-digit numbers is 9009 = 91 × 99. Find the largest palindrome made from the product of two three-digit numbers. Afterward, write a brief explanation walking through your code's logic in markdown."
   ]
  },
  {
   "cell_type": "code",
   "execution_count": 9,
   "metadata": {},
   "outputs": [],
   "source": [
    "def palindrome():\n",
    "    num_list=list()\n",
    "    #iterate the list from the biggest value\n",
    "    for i in range(999,1,-1):\n",
    "        for j in range(999,1,-1):\n",
    "            number=str(i*j)\n",
    "            #check the number if it is mirrored, it will be the same or not\n",
    "            if(number==number[::-1]):\n",
    "                #insert the number into the list if it's palindrome\n",
    "                num_list.append(int(number))\n",
    "                break\n",
    "        #save the time because we are going to find out the largest. Hence, the quarter of the list should be enough\n",
    "        if(len(num_list)>int((999*999)*0.1)):\n",
    "            break\n",
    "    #return the largest palindrome\n",
    "#     return num_list\n",
    "    return max(num_list)"
   ]
  },
  {
   "cell_type": "code",
   "execution_count": 10,
   "metadata": {
    "scrolled": false
   },
   "outputs": [
    {
     "data": {
      "text/plain": [
       "906609"
      ]
     },
     "execution_count": 10,
     "metadata": {},
     "output_type": "execute_result"
    }
   ],
   "source": [
    "palindrome()"
   ]
  },
  {
   "cell_type": "code",
   "execution_count": 14,
   "metadata": {},
   "outputs": [],
   "source": [
    "def palindrome_digit(size_num):\n",
    "    num_list=list()\n",
    "    #iterate the list from the biggest value\n",
    "    for i in range(int('9'*size_num),1,-1):\n",
    "        for j in range(int('9'*size_num),1,-1):\n",
    "            number=str(i*j)\n",
    "            if(number==number[::-1]):\n",
    "                #insert the number into the list if it's palindrome\n",
    "                num_list.append(int(number))\n",
    "                break\n",
    "        if(len(num_list)>int(int('9'*size_num)*int('9'*size_num)*0.1)):\n",
    "            break\n",
    "    #return the largest palindrome\n",
    "    return max(num_list)"
   ]
  },
  {
   "cell_type": "code",
   "execution_count": 15,
   "metadata": {},
   "outputs": [
    {
     "data": {
      "text/plain": [
       "906609"
      ]
     },
     "execution_count": 15,
     "metadata": {},
     "output_type": "execute_result"
    }
   ],
   "source": [
    "#enter the size of digits you want to find its palindrome\n",
    "palindrome_digit(3)"
   ]
  },
  {
   "cell_type": "code",
   "execution_count": 16,
   "metadata": {},
   "outputs": [
    {
     "data": {
      "text/plain": [
       "9009"
      ]
     },
     "execution_count": 16,
     "metadata": {},
     "output_type": "execute_result"
    }
   ],
   "source": [
    "#enter the size of digits you want to find its palindrome\n",
    "palindrome_digit(2)"
   ]
  },
  {
   "cell_type": "code",
   "execution_count": 17,
   "metadata": {},
   "outputs": [],
   "source": [
    "def palindrome_product(a,b):\n",
    "    num_list=list()\n",
    "    #iterate the list from the biggest value\n",
    "    for i in range(int(a),1,-1):\n",
    "        for j in range(int(b),1,-1):\n",
    "            number=str(i*j)\n",
    "            if(number==number[::-1]):\n",
    "                #insert the number into the list if it's palindrome\n",
    "                num_list.append(int(number))\n",
    "                break\n",
    "        if(len(num_list)>int((a*b)*0.1)):\n",
    "            break\n",
    "    #return the largest palindrome\n",
    "    return max(num_list)"
   ]
  },
  {
   "cell_type": "code",
   "execution_count": 18,
   "metadata": {},
   "outputs": [
    {
     "data": {
      "text/plain": [
       "906609"
      ]
     },
     "execution_count": 18,
     "metadata": {},
     "output_type": "execute_result"
    }
   ],
   "source": [
    "#enter the product of two numbers to find its palindrome\n",
    "palindrome_product(999,999)"
   ]
  },
  {
   "cell_type": "markdown",
   "metadata": {},
   "source": [
    "Because we are going to find the largest. I start the counter of i and j from the largest number which is (999\\*999) = 998001. Then, the j and i values will decrement by 1. And if the product of i\\*j found its first palindrome. It will insert it into a list and exit the j loop. (This will save a bit of time). Then, I also added the condition if the number of elements in the list exceeds a tenth of the product of highest value(999\\*999) it will exit the loop. Because I believe by that time, we already have the highest palindrome inside the list. I want to limit the unneccesary usage of time and resource in computing this. Then, lastly I returned the maximum value in the list."
   ]
  },
  {
   "cell_type": "markdown",
   "metadata": {},
   "source": [
    "\n",
    "### Challenge 2: Summation of Primes\n",
    "The sum of the primes below 10 is 2 + 3 + 5 + 7 = 17. Find the sum of all the primes below 2,000. Afterward, write a brief explanation walking through your code's logic in markdown."
   ]
  },
  {
   "cell_type": "code",
   "execution_count": 28,
   "metadata": {},
   "outputs": [],
   "source": [
    "#to check whether the number is prime number\n",
    "def check_prime(num):\n",
    "    #initialize the value of rs\n",
    "    rs=False\n",
    "    #divide the num by the iteration values\n",
    "    for i in range(2,num):\n",
    "        if num%i==0:\n",
    "            rs= False\n",
    "            break\n",
    "        else:\n",
    "            rs = True\n",
    "    return rs\n",
    "            "
   ]
  },
  {
   "cell_type": "code",
   "execution_count": 50,
   "metadata": {},
   "outputs": [],
   "source": [
    "#get all the prime numbers below the inserted value\n",
    "def sum_primes(number):\n",
    "    prime_numbers=list()\n",
    "    #append the number 2 as prime number, because 2 is the smallest prime number\n",
    "    if number>=2:\n",
    "            prime_numbers.append(2)\n",
    "    for i in range(1,number):\n",
    "        #if the number is prime, it will be appended into the list\n",
    "        if check_prime(i):\n",
    "            prime_numbers.append(i)\n",
    "    return sum(prime_numbers) #return as the sum of all the prime numbers in the list\n",
    "        \n",
    "            "
   ]
  },
  {
   "cell_type": "code",
   "execution_count": 51,
   "metadata": {
    "scrolled": true
   },
   "outputs": [
    {
     "data": {
      "text/plain": [
       "277050"
      ]
     },
     "execution_count": 51,
     "metadata": {},
     "output_type": "execute_result"
    }
   ],
   "source": [
    "sum_primes(2000)"
   ]
  },
  {
   "cell_type": "markdown",
   "metadata": {},
   "source": [
    "I created two functions. First, I need to check the number whether it is a prime number or not. Then, I need another function to iterate numbers below a given value. If the iterated number is a prime number, I will insert it into a list. Lastly, I will sum all of the numbers in the list."
   ]
  },
  {
   "cell_type": "markdown",
   "metadata": {},
   "source": [
    "### Challenge 3: Multiples of 3 and 5\n",
    "If we list all of the natural numbers below 10 that are multiples of 3 or 5, we get 3, 5, 6, and 9. The sum of these multiples is 23. Find the sum of all the multiples of 3 and 5 below 1,000. Afterward, write a brief explanation walking through your code's logic in markdown."
   ]
  },
  {
   "cell_type": "code",
   "execution_count": 47,
   "metadata": {},
   "outputs": [],
   "source": [
    "def sum_product(number):\n",
    "    #create a list of numbers below given numbers\n",
    "    num_list = list(range(1,number))\n",
    "    sum_num=0\n",
    "    #select the number only that divisible by 3 or 5\n",
    "    for x in filter(lambda num:num%3==0 or num%5==0, num_list):\n",
    "        sum_num+=x\n",
    "    return sum_num #return the total sum"
   ]
  },
  {
   "cell_type": "code",
   "execution_count": 48,
   "metadata": {},
   "outputs": [
    {
     "data": {
      "text/plain": [
       "23"
      ]
     },
     "execution_count": 48,
     "metadata": {},
     "output_type": "execute_result"
    }
   ],
   "source": [
    "sum_product(10)"
   ]
  },
  {
   "cell_type": "code",
   "execution_count": 49,
   "metadata": {
    "scrolled": true
   },
   "outputs": [
    {
     "data": {
      "text/plain": [
       "233168"
      ]
     },
     "execution_count": 49,
     "metadata": {},
     "output_type": "execute_result"
    }
   ],
   "source": [
    "sum_product(1000)"
   ]
  },
  {
   "cell_type": "markdown",
   "metadata": {},
   "source": [
    "First, I create a list that ranging values from 1 until less than given number. Next, I used 'filter' function to filter the numbers inside that list. And only keep the number if that number can be divisible by 3 or 5. From the filter function and lambda, it will pop out a value one by one and I added those values into a 'sum_num' variable. Then, I return it as the total sum of the multiples of 3 and 5. "
   ]
  },
  {
   "cell_type": "markdown",
   "metadata": {},
   "source": [
    "### Challenge 4: String Compressor\n",
    "Implement a method to perform basic string compression using the counts of repeated characters. (This is called run-length encoding.) For example, the string \"aabcccccaaa\" would become a2b1c5a3. If the “compressed” string would not become smaller than the original string, your method should return the original string. You can assume the string has only uppercase and lowercase letters (a–z). Specify whether your solution is case sensitive or case insensitive and what you would need to change to make it the other. Afterward, write a brief explanation walking through your code's logic in markdown."
   ]
  },
  {
   "cell_type": "code",
   "execution_count": 24,
   "metadata": {},
   "outputs": [],
   "source": [
    "def string_comp(message):\n",
    "    counted_string = \"\"\n",
    "    i = 0\n",
    "   \n",
    "    #get the character in the string\n",
    "    while (i <= len(message)-1):\n",
    "        count = 1\n",
    "        letter = message[i]\n",
    "        j = i\n",
    "        #to count the number of times the character appeared\n",
    "        while (j < len(message)-1):\n",
    "            if (message[j] == message[j+1]):\n",
    "                #if the next character is similar to the current character, count increases\n",
    "                count = count+1\n",
    "                j = j+1\n",
    "            else:\n",
    "                #if not similar break the while loop\n",
    "                break\n",
    "        #print the character and its count\n",
    "        counted_string=counted_string+letter+str(count)\n",
    "        #increase the pointer\n",
    "        i = j+1\n",
    "    return counted_string"
   ]
  },
  {
   "cell_type": "code",
   "execution_count": 25,
   "metadata": {
    "scrolled": true
   },
   "outputs": [
    {
     "data": {
      "text/plain": [
       "'a2b1c5a3'"
      ]
     },
     "execution_count": 25,
     "metadata": {},
     "output_type": "execute_result"
    }
   ],
   "source": [
    "string_comp(\"aabcccccaaa\")"
   ]
  },
  {
   "cell_type": "markdown",
   "metadata": {},
   "source": [
    "First, I create an empty list. Then, we do a while loop to scan the characters in the string. count=1 because we already counted the first character and len(message)-1 to avoid out of index. The second while loop is for to count the number of occurences of the character. It is different from the first loop which is scan for the character. The second while loop acts like a pointer to run through the string."
   ]
  },
  {
   "cell_type": "markdown",
   "metadata": {},
   "source": [
    "### *BONUS* Challenge: FizzBuzz\n",
    "Write a program that prints all of the numbers from 1 to 100. For multiples of 3, instead of the number, print \"Fizz;\" for multiples of 5, print \"Buzz.\" For numbers that are multiples of both 3 and 5, print \"FizzBuzz.\" Afterward, write a brief explanation walking through your code's logic in markdown."
   ]
  },
  {
   "cell_type": "code",
   "execution_count": 69,
   "metadata": {
    "scrolled": true
   },
   "outputs": [
    {
     "name": "stdout",
     "output_type": "stream",
     "text": [
      "1\n",
      "2\n",
      "fizz\n",
      "4\n",
      "buzz\n",
      "fizz\n",
      "7\n",
      "8\n",
      "fizz\n",
      "buzz\n",
      "11\n",
      "fizz\n",
      "13\n",
      "14\n",
      "fizzbuzz\n",
      "16\n",
      "17\n",
      "fizz\n",
      "19\n",
      "buzz\n",
      "fizz\n",
      "22\n",
      "23\n",
      "fizz\n",
      "buzz\n",
      "26\n",
      "fizz\n",
      "28\n",
      "29\n",
      "fizzbuzz\n",
      "31\n",
      "32\n",
      "fizz\n",
      "34\n",
      "buzz\n",
      "fizz\n",
      "37\n",
      "38\n",
      "fizz\n",
      "buzz\n",
      "41\n",
      "fizz\n",
      "43\n",
      "44\n",
      "fizzbuzz\n",
      "46\n",
      "47\n",
      "fizz\n",
      "49\n",
      "buzz\n",
      "fizz\n",
      "52\n",
      "53\n",
      "fizz\n",
      "buzz\n",
      "56\n",
      "fizz\n",
      "58\n",
      "59\n",
      "fizzbuzz\n",
      "61\n",
      "62\n",
      "fizz\n",
      "64\n",
      "buzz\n",
      "fizz\n",
      "67\n",
      "68\n",
      "fizz\n",
      "buzz\n",
      "71\n",
      "fizz\n",
      "73\n",
      "74\n",
      "fizzbuzz\n",
      "76\n",
      "77\n",
      "fizz\n",
      "79\n",
      "buzz\n",
      "fizz\n",
      "82\n",
      "83\n",
      "fizz\n",
      "buzz\n",
      "86\n",
      "fizz\n",
      "88\n",
      "89\n",
      "fizzbuzz\n",
      "91\n",
      "92\n",
      "fizz\n",
      "94\n",
      "buzz\n",
      "fizz\n",
      "97\n",
      "98\n",
      "fizz\n",
      "buzz\n"
     ]
    }
   ],
   "source": [
    "#create a list of values in a range of 100\n",
    "for num in range(1, 101):\n",
    "    #if the number is divisible by 3 and 5\n",
    "    if num % 3==0 and num % 5==0:\n",
    "        print('fizzbuzz')\n",
    "    elif num % 5 == 0:\n",
    "        print('buzz')\n",
    "    elif num % 3 == 0:\n",
    "        print('fizz')\n",
    "    else:\n",
    "        print(num)      "
   ]
  },
  {
   "cell_type": "markdown",
   "metadata": {},
   "source": [
    "Create a for loop to run through a list of values. And use the if else statement to decide whether it prints 'fizzbuzz','fizz' and 'buzz'. I used a simple and operator and to check whether the number is divisible by 3 and 5. "
   ]
  }
 ],
 "metadata": {
  "anaconda-cloud": {},
  "kernelspec": {
   "display_name": "Python 3",
   "language": "python",
   "name": "python3"
  },
  "language_info": {
   "codemirror_mode": {
    "name": "ipython",
    "version": 3
   },
   "file_extension": ".py",
   "mimetype": "text/x-python",
   "name": "python",
   "nbconvert_exporter": "python",
   "pygments_lexer": "ipython3",
   "version": "3.8.8"
  }
 },
 "nbformat": 4,
 "nbformat_minor": 2
}
